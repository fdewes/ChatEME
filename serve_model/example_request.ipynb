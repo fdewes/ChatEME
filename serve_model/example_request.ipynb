{
 "cells": [
  {
   "cell_type": "code",
   "execution_count": null,
   "metadata": {},
   "outputs": [],
   "source": [
    "import requests\n",
    "import json\n",
    "url = 'http://localhost:5000/ChatEME/'\n",
    "\n",
    "text = \"\"\"BWL\"\"\"\n",
    "\n",
    "myobj = {'text': text}\n",
    "hdr = {'Content-Type': 'application/json; charset=utf-8',}\n",
    "\n",
    "x = requests.post(url, json = myobj)\n",
    "x = json.loads(x.text)\n",
    "print(x)"
   ]
  },
  {
   "cell_type": "code",
   "execution_count": null,
   "metadata": {},
   "outputs": [],
   "source": []
  }
 ],
 "metadata": {
  "language_info": {
   "name": "python"
  },
  "orig_nbformat": 4
 },
 "nbformat": 4,
 "nbformat_minor": 2
}
